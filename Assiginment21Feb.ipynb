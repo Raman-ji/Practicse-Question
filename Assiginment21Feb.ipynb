{
 "cells": [
  {
   "cell_type": "code",
   "execution_count": 1,
   "id": "6ab5ef6f-5cd0-4846-8d0d-9960f89a6a8e",
   "metadata": {},
   "outputs": [
    {
     "data": {
      "text/plain": [
       "'Q1. What is Web Scraping? Why is it Used? Give three areas where Web Scraping is used to get data.\\nAnswer:-Web scraping is the process of using bots to extract content and data from a website. Unlike screen scraping, which only copies pixels displayed onscreen, web scraping extracts underlying HTML code and, with it, data stored in a database. The scraper can then replicate entire website content elsewhere.\\nA web scraping software can be used to generate leads for marketing. Email and Phone lists for cold outreach can be built by scraping the data from relevant websites. For example, business contact details like phone number and email address can be scraped from yellow pages websites or from Google Maps business listings.\\nuses:=\\n1.A web scraping software can be used to generate leads for marketing. Email and Phone lists for cold outreach can be built by scraping the data from relevant websites. For example, business contact details like phone number and email address can be scraped from yellow pages websites or from Google Maps business listings.\\n2.Companies catering products or services need to have comprehensive data of competitor products and services which appear in the market every day. A web scraping software can be used to keep a constant watch on this data.\\n3.Web Scraping can be used to periodically extract data of products from various e-commerce websites like Amazon, eBay, Google Shopping etc. Product details like price, description, images, reviews, rating etc. can be easily extracted using a web scraping software.\\n4.You might want to collect and analyze data related to a specific category from multiple websites. The category might be real estate, automobiles, electronic gadgets, industrial equipment, business contacts, marketing etc\\n\\nAreas where web scraping is used :-\\n1. Lead Generation for Marketing\\n2.Price Comparison & Competition Monitoring\\n3. E-Commerce\\n4. Real Estate\\n'"
      ]
     },
     "execution_count": 1,
     "metadata": {},
     "output_type": "execute_result"
    }
   ],
   "source": [
    "\"\"\"Q1. What is Web Scraping? Why is it Used? Give three areas where Web Scraping is used to get data.\n",
    "Answer:-Web scraping is the process of using bots to extract content and data from a website. Unlike screen scraping, which only copies pixels displayed onscreen, web scraping extracts underlying HTML code and, with it, data stored in a database. The scraper can then replicate entire website content elsewhere.\n",
    "A web scraping software can be used to generate leads for marketing. Email and Phone lists for cold outreach can be built by scraping the data from relevant websites. For example, business contact details like phone number and email address can be scraped from yellow pages websites or from Google Maps business listings.\n",
    "uses:=\n",
    "1.A web scraping software can be used to generate leads for marketing. Email and Phone lists for cold outreach can be built by scraping the data from relevant websites. For example, business contact details like phone number and email address can be scraped from yellow pages websites or from Google Maps business listings.\n",
    "2.Companies catering products or services need to have comprehensive data of competitor products and services which appear in the market every day. A web scraping software can be used to keep a constant watch on this data.\n",
    "3.Web Scraping can be used to periodically extract data of products from various e-commerce websites like Amazon, eBay, Google Shopping etc. Product details like price, description, images, reviews, rating etc. can be easily extracted using a web scraping software.\n",
    "4.You might want to collect and analyze data related to a specific category from multiple websites. The category might be real estate, automobiles, electronic gadgets, industrial equipment, business contacts, marketing etc\n",
    "\n",
    "Areas where web scraping is used :-\n",
    "1. Lead Generation for Marketing\n",
    "2.Price Comparison & Competition Monitoring\n",
    "3. E-Commerce\n",
    "4. Real Estate\n",
    "\"\"\""
   ]
  },
  {
   "cell_type": "code",
   "execution_count": 3,
   "id": "c3d55b7c-49ed-4b92-bd77-3b0f9f27a251",
   "metadata": {},
   "outputs": [
    {
     "data": {
      "text/plain": [
       "'Q2. What are the different methods used for Web Scraping?\\nAnswer:-The different methods used for web scraping:-\\nThe most common techniques used for Web Scraping are\\n\\n1.Human copy-and-paste.\\n2.Text pattern matching.\\n3.HTTP programming.\\n4.HTML parsing.\\n5.DOM parsing.\\n6.Vertical aggregation.\\n7.Semantic annotation recognizing.\\n8.Computer vision web-page analysis.'"
      ]
     },
     "execution_count": 3,
     "metadata": {},
     "output_type": "execute_result"
    }
   ],
   "source": [
    "\"\"\"Q2. What are the different methods used for Web Scraping?\n",
    "Answer:-The different methods used for web scraping:-\n",
    "The most common techniques used for Web Scraping are\n",
    "\n",
    "1.Human copy-and-paste.\n",
    "2.Text pattern matching.\n",
    "3.HTTP programming.\n",
    "4.HTML parsing.\n",
    "5.DOM parsing.\n",
    "6.Vertical aggregation.\n",
    "7.Semantic annotation recognizing.\n",
    "8.Computer vision web-page analysis.\"\"\""
   ]
  },
  {
   "cell_type": "code",
   "execution_count": 4,
   "id": "c8202aaf-814c-4789-b163-df021c218558",
   "metadata": {},
   "outputs": [
    {
     "data": {
      "text/plain": [
       "'Q3. What is Beautiful Soup? Why is it used?\\nAnswer:-Beautiful Soup is a Python package for parsing HTML and XML documents . It is very used in webscraping it used to make the html code in little bit readable form through this code the user can access the data using web scraping concept'"
      ]
     },
     "execution_count": 4,
     "metadata": {},
     "output_type": "execute_result"
    }
   ],
   "source": [
    "\"\"\"Q3. What is Beautiful Soup? Why is it used?\n",
    "Answer:-Beautiful Soup is a Python package for parsing HTML and XML documents . It is very used in webscraping it used to make the html code in little bit readable form through this code the user can access the data using web scraping concept\"\"\""
   ]
  },
  {
   "cell_type": "code",
   "execution_count": 5,
   "id": "5774cf4d-039e-42e1-a8e0-5fa3ad8da4be",
   "metadata": {},
   "outputs": [
    {
     "data": {
      "text/plain": [
       "\"Q4. Why is flask used in this Web Scraping project?\\nFlask is a lightweight framework to build websites. We'll use this to parse our collected data and display it as HTML in a new HTML file. The requests module allows us to send http requests to the website we want to scrape\""
      ]
     },
     "execution_count": 5,
     "metadata": {},
     "output_type": "execute_result"
    }
   ],
   "source": [
    "\"\"\"Q4. Why is flask used in this Web Scraping project?\n",
    "Flask is a lightweight framework to build websites. We'll use this to parse our collected data and display it as HTML in a new HTML file. The requests module allows us to send http requests to the website we want to scrape\"\"\""
   ]
  },
  {
   "cell_type": "code",
   "execution_count": 6,
   "id": "9d00ad68-2ef3-4a82-b90c-beeffe6d73ea",
   "metadata": {},
   "outputs": [
    {
     "data": {
      "text/plain": [
       "'Q5. Write the names of AWS services used in this project. Also, explain the use of each service.\\nAnswer:-code pipline and beanstack\\nAnswer:-code pipline uses:-\\n1.AWS CodePipeline is a continuous delivery service you can use to model, visualize, and automate the steps required to release your software. \\n2.You can quickly model and configure the different stages of a software release process. \\n3.CodePipeline automates the steps required to release your software changes continuously.'"
      ]
     },
     "execution_count": 6,
     "metadata": {},
     "output_type": "execute_result"
    }
   ],
   "source": [
    "\"\"\"Q5. Write the names of AWS services used in this project. Also, explain the use of each service.\n",
    "Answer:-code pipline and beanstack\n",
    "Answer:-code pipline uses:-\n",
    "1.AWS CodePipeline is a continuous delivery service you can use to model, visualize, and automate the steps required to release your software. \n",
    "2.You can quickly model and configure the different stages of a software release process. \n",
    "3.CodePipeline automates the steps required to release your software changes continuously.\n",
    "\n",
    "Beanstack uses:-\n",
    "\"\"\""
   ]
  },
  {
   "cell_type": "code",
   "execution_count": null,
   "id": "c42b7dbe-1e3a-437a-b0cb-a159caa8b1da",
   "metadata": {},
   "outputs": [],
   "source": []
  }
 ],
 "metadata": {
  "kernelspec": {
   "display_name": "Python 3 (ipykernel)",
   "language": "python",
   "name": "python3"
  },
  "language_info": {
   "codemirror_mode": {
    "name": "ipython",
    "version": 3
   },
   "file_extension": ".py",
   "mimetype": "text/x-python",
   "name": "python",
   "nbconvert_exporter": "python",
   "pygments_lexer": "ipython3",
   "version": "3.10.8"
  }
 },
 "nbformat": 4,
 "nbformat_minor": 5
}
