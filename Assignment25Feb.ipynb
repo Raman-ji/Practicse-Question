{
 "cells": [
  {
   "cell_type": "code",
   "execution_count": 1,
   "id": "758b441e-4288-421b-940d-f723a7d24300",
   "metadata": {},
   "outputs": [],
   "source": [
    "import pandas as pd\n",
    "course_name=['Data Science','Machine Learning','Big Data','Data Engineer']\n",
    "duration=[2,3,6,4]\n",
    "df=pd.DataFrame(data={\"course_name\":course_name, \"duration\":duration})"
   ]
  },
  {
   "cell_type": "code",
   "execution_count": 2,
   "id": "02febfe8-f7be-4ee0-86fa-1293d4501bba",
   "metadata": {},
   "outputs": [
    {
     "data": {
      "text/html": [
       "<div>\n",
       "<style scoped>\n",
       "    .dataframe tbody tr th:only-of-type {\n",
       "        vertical-align: middle;\n",
       "    }\n",
       "\n",
       "    .dataframe tbody tr th {\n",
       "        vertical-align: top;\n",
       "    }\n",
       "\n",
       "    .dataframe thead th {\n",
       "        text-align: right;\n",
       "    }\n",
       "</style>\n",
       "<table border=\"1\" class=\"dataframe\">\n",
       "  <thead>\n",
       "    <tr style=\"text-align: right;\">\n",
       "      <th></th>\n",
       "      <th>course_name</th>\n",
       "      <th>duration</th>\n",
       "    </tr>\n",
       "  </thead>\n",
       "  <tbody>\n",
       "    <tr>\n",
       "      <th>2</th>\n",
       "      <td>Big Data</td>\n",
       "      <td>6</td>\n",
       "    </tr>\n",
       "  </tbody>\n",
       "</table>\n",
       "</div>"
      ],
      "text/plain": [
       "  course_name  duration\n",
       "2    Big Data         6"
      ]
     },
     "execution_count": 2,
     "metadata": {},
     "output_type": "execute_result"
    }
   ],
   "source": [
    "\"\"\"Q1. Write a code to print the data present in the second row of the dataframe, df.\n",
    "Answer:-\"\"\"\n",
    "df[2:3]"
   ]
  },
  {
   "cell_type": "code",
   "execution_count": 3,
   "id": "20b66cad-5492-46bd-b3ff-c5fd16b05253",
   "metadata": {},
   "outputs": [
    {
     "name": "stdout",
     "output_type": "stream",
     "text": [
      "Program example \n",
      "\n"
     ]
    },
    {
     "data": {
      "text/html": [
       "<div>\n",
       "<style scoped>\n",
       "    .dataframe tbody tr th:only-of-type {\n",
       "        vertical-align: middle;\n",
       "    }\n",
       "\n",
       "    .dataframe tbody tr th {\n",
       "        vertical-align: top;\n",
       "    }\n",
       "\n",
       "    .dataframe thead th {\n",
       "        text-align: right;\n",
       "    }\n",
       "</style>\n",
       "<table border=\"1\" class=\"dataframe\">\n",
       "  <thead>\n",
       "    <tr style=\"text-align: right;\">\n",
       "      <th></th>\n",
       "      <th>duration</th>\n",
       "    </tr>\n",
       "  </thead>\n",
       "  <tbody>\n",
       "    <tr>\n",
       "      <th>0</th>\n",
       "      <td>2</td>\n",
       "    </tr>\n",
       "    <tr>\n",
       "      <th>1</th>\n",
       "      <td>3</td>\n",
       "    </tr>\n",
       "    <tr>\n",
       "      <th>2</th>\n",
       "      <td>6</td>\n",
       "    </tr>\n",
       "  </tbody>\n",
       "</table>\n",
       "</div>"
      ],
      "text/plain": [
       "   duration\n",
       "0         2\n",
       "1         3\n",
       "2         6"
      ]
     },
     "execution_count": 3,
     "metadata": {},
     "output_type": "execute_result"
    }
   ],
   "source": [
    "\"\"\"Q2. What is the difference between the functions loc and iloc in pandas.DataFrame?\n",
    "Answer:- Both iloc and loc are use to data slicing in pandas but there is a small different between them iloc function can do a slicing with in built indexing not named indexes but loc can do and also in iloc if we extract some less column so we have to assign there built in indexed value not there name like 0,1,2 ... but in loc we can do it with there name\"\"\"\n",
    "print(\"Program example \\n\")\n",
    "df.iloc[0:2,[0]]\n",
    "df.loc[0:2,[\"duration\"]]"
   ]
  },
  {
   "cell_type": "code",
   "execution_count": 4,
   "id": "1199420d-6ca1-4097-9e1c-11c1847b7fe3",
   "metadata": {},
   "outputs": [
    {
     "name": "stdout",
     "output_type": "stream",
     "text": [
      "Output for loc function ---------X--------\n",
      "course_name    Big Data\n",
      "duration              6\n",
      "Name: 2, dtype: object\n",
      "\n",
      "\n",
      "Output for iloc fumction------X-----\n",
      "course_name    Machine Learning\n",
      "duration                      3\n",
      "Name: 1, dtype: object\n"
     ]
    },
    {
     "data": {
      "text/plain": [
       "\"explaination:-\\nBy reindex function the index of row is changed but not internally so internall at index 0 , 3rd index data is there and so on as we know that loc function only see the named index that means we see but iloc do sliciling with the help of internal indexes that's why iloc[2] return the course name as machine learning, and\\nduration as 3 and loc[2] function return course name as Big data and duration as 6\\n\""
      ]
     },
     "execution_count": 4,
     "metadata": {},
     "output_type": "execute_result"
    }
   ],
   "source": [
    "\"\"\"Q3. Reindex the given dataframe using a variable, reindex = [3,0,1,2] and store it in the variable, new_df\n",
    "then find the output for both new_df.loc[2] and new_df.iloc[2].\n",
    "Did you observe any difference in both the outputs? If so then explain it.\"\"\"\n",
    "l=[3,0,1,2]\n",
    "new_df=df.reindex(l)\n",
    "print(\"Output for loc function ---------X--------\")\n",
    "print(new_df.loc[2])\n",
    "print(\"\\n\")\n",
    "print(\"Output for iloc fumction------X-----\")\n",
    "print(new_df.iloc[2])\n",
    "\"\"\"explaination:-\n",
    "By reindex function the index of row is changed but not internally so internall at index 0 , 3rd index data is there and so on as we know that loc function only see the named index that means we see but iloc do sliciling with the help of internal indexes that's why iloc[2] return the course name as machine learning, and\n",
    "duration as 3 and loc[2] function return course name as Big data and duration as 6\n",
    "\"\"\""
   ]
  },
  {
   "cell_type": "code",
   "execution_count": 5,
   "id": "a39810e7-86dd-4983-824a-f1e1cba39c00",
   "metadata": {},
   "outputs": [],
   "source": [
    "#Consider the below code to answer further questions:\n",
    "import pandas as pd\n",
    "import numpy as np\n",
    "columns=['column_1','column_2','column_3','column_4','column_5','column_6']\n",
    "indices=[1,2,3,4,5,6]\n",
    "#Creating a dataframe\n",
    "df1=pd.DataFrame(np.random.rand(6,6), columns=columns, index=indices)"
   ]
  },
  {
   "cell_type": "code",
   "execution_count": 6,
   "id": "1ed9940a-4d7c-4dd8-96b1-c25fcfe83704",
   "metadata": {},
   "outputs": [
    {
     "data": {
      "text/html": [
       "<div>\n",
       "<style scoped>\n",
       "    .dataframe tbody tr th:only-of-type {\n",
       "        vertical-align: middle;\n",
       "    }\n",
       "\n",
       "    .dataframe tbody tr th {\n",
       "        vertical-align: top;\n",
       "    }\n",
       "\n",
       "    .dataframe thead th {\n",
       "        text-align: right;\n",
       "    }\n",
       "</style>\n",
       "<table border=\"1\" class=\"dataframe\">\n",
       "  <thead>\n",
       "    <tr style=\"text-align: right;\">\n",
       "      <th></th>\n",
       "      <th>mean</th>\n",
       "    </tr>\n",
       "  </thead>\n",
       "  <tbody>\n",
       "    <tr>\n",
       "      <th>column_1</th>\n",
       "      <td>0.605760</td>\n",
       "    </tr>\n",
       "    <tr>\n",
       "      <th>column_2</th>\n",
       "      <td>0.392432</td>\n",
       "    </tr>\n",
       "    <tr>\n",
       "      <th>column_3</th>\n",
       "      <td>0.582451</td>\n",
       "    </tr>\n",
       "    <tr>\n",
       "      <th>column_4</th>\n",
       "      <td>0.459774</td>\n",
       "    </tr>\n",
       "    <tr>\n",
       "      <th>column_5</th>\n",
       "      <td>0.316273</td>\n",
       "    </tr>\n",
       "    <tr>\n",
       "      <th>column_6</th>\n",
       "      <td>0.538621</td>\n",
       "    </tr>\n",
       "  </tbody>\n",
       "</table>\n",
       "</div>"
      ],
      "text/plain": [
       "              mean\n",
       "column_1  0.605760\n",
       "column_2  0.392432\n",
       "column_3  0.582451\n",
       "column_4  0.459774\n",
       "column_5  0.316273\n",
       "column_6  0.538621"
      ]
     },
     "execution_count": 6,
     "metadata": {},
     "output_type": "execute_result"
    }
   ],
   "source": [
    "\"\"\"Q4. Write a code to find the following statistical measurements for the above dataframe df1:\n",
    "(i) mean of each and every column present in the dataframe.\n",
    "(ii) standard deviation of column, ‘column_2’\"\"\"\n",
    "newDf=df1.describe()\n",
    "mean=pd.DataFrame(newDf.iloc[1])\n",
    "mean"
   ]
  },
  {
   "cell_type": "code",
   "execution_count": 7,
   "id": "0d53e6c0-657f-4a6c-aae2-1fed7d62bcef",
   "metadata": {},
   "outputs": [
    {
     "data": {
      "text/plain": [
       "0.2994590537898416"
      ]
     },
     "execution_count": 7,
     "metadata": {},
     "output_type": "execute_result"
    }
   ],
   "source": [
    "\"\"\"(ii) standard deviation of column, ‘column_2’\n",
    "\"\"\"\n",
    "df1[\"column_2\"].std()"
   ]
  },
  {
   "cell_type": "code",
   "execution_count": 8,
   "id": "ee584424-749b-43ac-b289-b5905018930f",
   "metadata": {},
   "outputs": [
    {
     "data": {
      "text/html": [
       "<div>\n",
       "<style scoped>\n",
       "    .dataframe tbody tr th:only-of-type {\n",
       "        vertical-align: middle;\n",
       "    }\n",
       "\n",
       "    .dataframe tbody tr th {\n",
       "        vertical-align: top;\n",
       "    }\n",
       "\n",
       "    .dataframe thead th {\n",
       "        text-align: right;\n",
       "    }\n",
       "</style>\n",
       "<table border=\"1\" class=\"dataframe\">\n",
       "  <thead>\n",
       "    <tr style=\"text-align: right;\">\n",
       "      <th></th>\n",
       "      <th>column_1</th>\n",
       "      <th>column_2</th>\n",
       "      <th>column_3</th>\n",
       "      <th>column_4</th>\n",
       "      <th>column_5</th>\n",
       "      <th>column_6</th>\n",
       "    </tr>\n",
       "  </thead>\n",
       "  <tbody>\n",
       "    <tr>\n",
       "      <th>1</th>\n",
       "      <td>0.228658</td>\n",
       "      <td>0.808742</td>\n",
       "      <td>0.569901</td>\n",
       "      <td>0.944826</td>\n",
       "      <td>0.383989</td>\n",
       "      <td>0.610449</td>\n",
       "    </tr>\n",
       "    <tr>\n",
       "      <th>2</th>\n",
       "      <td>0.405816</td>\n",
       "      <td>0.223343</td>\n",
       "      <td>0.707571</td>\n",
       "      <td>0.284087</td>\n",
       "      <td>0.148382</td>\n",
       "      <td>0.034238</td>\n",
       "    </tr>\n",
       "    <tr>\n",
       "      <th>3</th>\n",
       "      <td>0.750673</td>\n",
       "      <td>0.625683</td>\n",
       "      <td>0.484766</td>\n",
       "      <td>0.186039</td>\n",
       "      <td>0.127392</td>\n",
       "      <td>0.980627</td>\n",
       "    </tr>\n",
       "    <tr>\n",
       "      <th>4</th>\n",
       "      <td>0.459714</td>\n",
       "      <td>0.419471</td>\n",
       "      <td>0.731120</td>\n",
       "      <td>0.670812</td>\n",
       "      <td>0.310829</td>\n",
       "      <td>0.111194</td>\n",
       "    </tr>\n",
       "    <tr>\n",
       "      <th>5</th>\n",
       "      <td>0.966849</td>\n",
       "      <td>0.012870</td>\n",
       "      <td>0.392668</td>\n",
       "      <td>0.086633</td>\n",
       "      <td>0.882457</td>\n",
       "      <td>0.899252</td>\n",
       "    </tr>\n",
       "    <tr>\n",
       "      <th>6</th>\n",
       "      <td>0.822851</td>\n",
       "      <td>0.369896</td>\n",
       "      <td>0.608679</td>\n",
       "      <td>0.586247</td>\n",
       "      <td>0.044592</td>\n",
       "      <td>0.595968</td>\n",
       "    </tr>\n",
       "  </tbody>\n",
       "</table>\n",
       "</div>"
      ],
      "text/plain": [
       "   column_1  column_2  column_3  column_4  column_5  column_6\n",
       "1  0.228658  0.808742  0.569901  0.944826  0.383989  0.610449\n",
       "2  0.405816  0.223343  0.707571  0.284087  0.148382  0.034238\n",
       "3  0.750673  0.625683  0.484766  0.186039  0.127392  0.980627\n",
       "4  0.459714  0.419471  0.731120  0.670812  0.310829  0.111194\n",
       "5  0.966849  0.012870  0.392668  0.086633  0.882457  0.899252\n",
       "6  0.822851  0.369896  0.608679  0.586247  0.044592  0.595968"
      ]
     },
     "execution_count": 8,
     "metadata": {},
     "output_type": "execute_result"
    }
   ],
   "source": [
    "\"\"\"Q5. Replace the data present in the second row of column, ‘column_2’ by a string variable then find the\n",
    "mean of column, column_2.\n",
    "If you are getting errors in executing it then explain why.\n",
    "[Hint: To replace the data use df1.loc[] and equate this to string data of your choice.]\"\"\"\n",
    "Str=0.22334344\n",
    "df1.loc[2,'column_2']=Str\n",
    "df1"
   ]
  },
  {
   "cell_type": "code",
   "execution_count": 9,
   "id": "f64581b6-15b1-487b-80d5-9f907af8951f",
   "metadata": {},
   "outputs": [
    {
     "data": {
      "text/plain": [
       "'Q6. What do you understand about the windows function in pandas and list the types of windows\\nfunctions?\\nAnswer:-The window functions in Pandas are used to perform some sort of calculations across a set of rows that are interrelated with the current row.\\nThe window functions in Pandas are used to perform some sort of calculations across a set of rows that are interrelated with the current row.\\nThe Aggregate category of window functions can be of three types namely-\\n\\nGroup,\\nRolling, and\\nExpanding.\\n\\nThe Ranking category of window functions can be of five types namely-\\n\\nRow Numbers,\\nRow numbers if of two types:\\nreset_index()\\ncumcount()\\nRank,\\nRank is of four types:\\ndefault_rank\\nmin_rank\\nNA_bottom\\ndescending\\nDense rank,\\nPercent, and\\nN-Tile / qcut().\\n\\nThe Value category of window functions can be of two types namely-\\n\\nLag / Lead, and\\nFirst / Last/nth.\\n'"
      ]
     },
     "execution_count": 9,
     "metadata": {},
     "output_type": "execute_result"
    }
   ],
   "source": [
    "\"\"\"Q6. What do you understand about the windows function in pandas and list the types of windows\n",
    "functions?\n",
    "Answer:-The window functions in Pandas are used to perform some sort of calculations across a set of rows that are interrelated with the current row.\n",
    "The window functions in Pandas are used to perform some sort of calculations across a set of rows that are interrelated with the current row.\n",
    "The Aggregate category of window functions can be of three types namely-\n",
    "\n",
    "Group,\n",
    "Rolling, and\n",
    "Expanding.\n",
    "\n",
    "The Ranking category of window functions can be of five types namely-\n",
    "\n",
    "Row Numbers,\n",
    "Row numbers if of two types:\n",
    "reset_index()\n",
    "cumcount()\n",
    "Rank,\n",
    "Rank is of four types:\n",
    "default_rank\n",
    "min_rank\n",
    "NA_bottom\n",
    "descending\n",
    "Dense rank,\n",
    "Percent, and\n",
    "N-Tile / qcut().\n",
    "\n",
    "The Value category of window functions can be of two types namely-\n",
    "\n",
    "Lag / Lead, and\n",
    "First / Last/nth.\n",
    "\"\"\""
   ]
  },
  {
   "cell_type": "code",
   "execution_count": 10,
   "id": "c2dbd090-cf3e-4245-ab85-b205306d50e0",
   "metadata": {},
   "outputs": [
    {
     "name": "stdout",
     "output_type": "stream",
     "text": [
      "current date : 2023-04-27\n",
      "current month :  4\n",
      "Current year :  2023\n"
     ]
    }
   ],
   "source": [
    "\"\"\"Q7. Write a code to print only the current month and year at the time of answering this question.\n",
    "[Hint: Use pandas.datetime function\n",
    "\"\"\"\n",
    "from datetime import date\n",
    "today_date= date.today()\n",
    "print(\"current date :\" ,today_date)\n",
    "print(\"current month : \",today_date.month)\n",
    "print(\"Current year : \" ,today_date.year)"
   ]
  },
  {
   "cell_type": "code",
   "execution_count": 12,
   "id": "7d49577c-d0b1-4b36-8374-c5e4d2960cfa",
   "metadata": {},
   "outputs": [
    {
     "name": "stdin",
     "output_type": "stream",
     "text": [
      "Enter a date in the format YYYY-MM-DD  2023-12-22\n",
      "Enter a second date in the function YYYY-MM-DD 2023-4-14\n"
     ]
    },
    {
     "name": "stdout",
     "output_type": "stream",
     "text": [
      "The difference between of two dates is  252 days 00:00:00\n"
     ]
    }
   ],
   "source": [
    "\"\"\"Q8. Write a Python program that takes in two dates as input (in the format YYYY-MM-DD) and\n",
    "calculates the difference between them in days, hours, and minutes using Pandas time delta. The\n",
    "program should prompt the user to enter the dates and display the result.\n",
    "\"\"\"\n",
    "import pandas as pd\n",
    "import datetime\n",
    "date1=pd.to_datetime(input(\"Enter a date in the format YYYY-MM-DD \"))\n",
    "date2=pd.to_datetime(input(\"Enter a second date in the function YYYY-MM-DD\"))\n",
    "print(\"The difference between of two dates is \",date1-date2)"
   ]
  },
  {
   "cell_type": "code",
   "execution_count": 44,
   "id": "84ffa1c4-942a-49c3-aa98-3b3b202bbade",
   "metadata": {},
   "outputs": [
    {
     "name": "stdin",
     "output_type": "stream",
     "text": [
      "Enter the file path or name of CSV file only\n",
      " taxonomy.csv\n",
      "Enter the column name\n",
      " name\n",
      "Enter the category order\n",
      " Emergency\n"
     ]
    },
    {
     "name": "stdout",
     "output_type": "stream",
     "text": [
      "Emergency\n",
      "Emergency Cash\n",
      "Emergency Food\n",
      "Emergency Shelter\n",
      "Emergency Food\n",
      "Emergency Shelter\n"
     ]
    },
    {
     "data": {
      "text/html": [
       "<div>\n",
       "<style scoped>\n",
       "    .dataframe tbody tr th:only-of-type {\n",
       "        vertical-align: middle;\n",
       "    }\n",
       "\n",
       "    .dataframe tbody tr th {\n",
       "        vertical-align: top;\n",
       "    }\n",
       "\n",
       "    .dataframe thead th {\n",
       "        text-align: right;\n",
       "    }\n",
       "</style>\n",
       "<table border=\"1\" class=\"dataframe\">\n",
       "  <thead>\n",
       "    <tr style=\"text-align: right;\">\n",
       "      <th></th>\n",
       "      <th>taxonomy_id</th>\n",
       "      <th>name</th>\n",
       "      <th>parent_id</th>\n",
       "      <th>parent_name</th>\n",
       "    </tr>\n",
       "  </thead>\n",
       "  <tbody>\n",
       "    <tr>\n",
       "      <th>10</th>\n",
       "      <td>101-04</td>\n",
       "      <td>Emergency Shelter</td>\n",
       "      <td>101</td>\n",
       "      <td>Emergency</td>\n",
       "    </tr>\n",
       "    <tr>\n",
       "      <th>26</th>\n",
       "      <td>103-01</td>\n",
       "      <td>Emergency Shelter</td>\n",
       "      <td>103</td>\n",
       "      <td>Housing</td>\n",
       "    </tr>\n",
       "  </tbody>\n",
       "</table>\n",
       "</div>"
      ],
      "text/plain": [
       "   taxonomy_id               name parent_id parent_name\n",
       "10      101-04  Emergency Shelter       101   Emergency\n",
       "26      103-01  Emergency Shelter       103     Housing"
      ]
     },
     "execution_count": 44,
     "metadata": {},
     "output_type": "execute_result"
    }
   ],
   "source": [
    "\"\"\"Q9. Write a Python program that reads a CSV file containing categorical data and converts a specified\n",
    "column to a categorical data type. The program should prompt the user to enter the file path, column\n",
    "name, and category order, and then display the sorted data.\n",
    "\n",
    "\"\"\"\n",
    "\n",
    "fp=input(\"Enter the file path or name of CSV file only\\n\")\n",
    "column_name=input(\"Enter the column name\\n\")\n",
    "catogory_order=input(\"Enter the category order\\n\")\n",
    "df=pd.read_csv(fp)\n",
    "cf=pd.Categorical(df[column_name])\n",
    "new_df1=pd.DataFrame({\"taxonomy_id\":[\"\"], \"name\":[\"\"], \"parent_id\":[\"\"], \"parent_name\":[\"\"]})\n",
    "    # df.set_index(cf)\n",
    "#print(cf)\n",
    "j=0\n",
    "for i in df[column_name]:\n",
    "    if(i.split()[0]==catogory_order):\n",
    "        #print(i.split()[0])\n",
    "        new_df1=df[df[column_name]==\"\"]\n",
    "        print(i)\n",
    "        j=j+1\n",
    "    j=j+1\n",
    "new_df1\n",
    "\n"
   ]
  },
  {
   "cell_type": "code",
   "execution_count": 13,
   "id": "8f078ba5-d0eb-4026-abad-4bd3f085818d",
   "metadata": {},
   "outputs": [
    {
     "name": "stdin",
     "output_type": "stream",
     "text": [
      "Enter the file path \n",
      " Product_records.csv\n"
     ]
    },
    {
     "data": {
      "text/plain": [
       "<AxesSubplot: title={'center': 'Product report'}, xlabel='Name'>"
      ]
     },
     "execution_count": 13,
     "metadata": {},
     "output_type": "execute_result"
    },
    {
     "data": {
      "image/png": "[encoded data removed]",
      "text/plain": [
       "<Figure size 640x480 with 1 Axes>"
      ]
     },
     "metadata": {},
     "output_type": "display_data"
    }
   ],
   "source": [
    "\"\"\"Q10. Write a Python program that reads a CSV file containing sales data for different products and\n",
    "visualizes the data using a stacked bar chart to show the sales of each product category over time. The\n",
    "program should prompt the user to enter the file path and display the chart.\n",
    "\"\"\"\n",
    "import pandas as pd\n",
    "import csv\n",
    "heading=[\"Name\",\"Sales\",\"year\"]\n",
    "\n",
    "data=[[\"Milk\",60000,2022],\n",
    "     [\"Curd\",500,2022],\n",
    "     [\"ButterMilk\",6000,2023],\n",
    "     [\"Namkeen Chhahh\", 300, 2022],\n",
    "     [\"Lassi\", 9000,2022],\n",
    "     [\"Curd\", 800, 2023],\n",
    "     [\"Rabdi\", 100, 2022],\n",
    "     [\"Chakka\", 500, 2023],\n",
    "     [\"Pedha\", 9000,2023],\n",
    "     [\"Braj_pedha\", 400, 2023]]\n",
    "filename=\"Product_records.csv\"\n",
    "with open(filename, 'w') as csvfile:\n",
    "    csvwriter=csv.writer(csvfile)\n",
    "    csvwriter.writerow(heading)\n",
    "    csvwriter.writerows(data)\n",
    "#above code make a csv file\n",
    "fp=input(\"Enter the file path \\n\")\n",
    "df=pd.read_csv(fp)\n",
    "df.plot.bar(x='Name',y='Sales', stacked=True, title=\"Product report\")"
   ]
  },
  {
   "cell_type": "code",
   "execution_count": 20,
   "id": "2f9372a6-8cbc-4789-9926-93f87034ed19",
   "metadata": {},
   "outputs": [
    {
     "name": "stdin",
     "output_type": "stream",
     "text": [
      "Enter a file path \n",
      " student_records.csv\n"
     ]
    },
    {
     "data": {
      "text/html": [
       "<div>\n",
       "<style scoped>\n",
       "    .dataframe tbody tr th:only-of-type {\n",
       "        vertical-align: middle;\n",
       "    }\n",
       "\n",
       "    .dataframe tbody tr th {\n",
       "        vertical-align: top;\n",
       "    }\n",
       "\n",
       "    .dataframe thead th {\n",
       "        text-align: right;\n",
       "    }\n",
       "</style>\n",
       "<table border=\"1\" class=\"dataframe\">\n",
       "  <thead>\n",
       "    <tr style=\"text-align: right;\">\n",
       "      <th></th>\n",
       "      <th>Mean</th>\n",
       "      <th>Mode</th>\n",
       "      <th>Median</th>\n",
       "    </tr>\n",
       "  </thead>\n",
       "  <tbody>\n",
       "    <tr>\n",
       "      <th>0</th>\n",
       "      <td>83.0</td>\n",
       "      <td>85</td>\n",
       "      <td>85.0</td>\n",
       "    </tr>\n",
       "  </tbody>\n",
       "</table>\n",
       "</div>"
      ],
      "text/plain": [
       "   Mean  Mode  Median\n",
       "0  83.0    85    85.0"
      ]
     },
     "execution_count": 20,
     "metadata": {},
     "output_type": "execute_result"
    }
   ],
   "source": [
    "\"\"\"Q11. You are given a CSV file containing student data that includes the student ID and their test score. Write\n",
    "a Python program that reads the CSV file, calculates the mean, median, and mode of the test scores, and\n",
    "displays the results in a table.\n",
    "The program should do the followingM\n",
    "I Prompt the user to enter the file path of the CSV file containing the student dataR\n",
    "I Read the CSV file into a Pandas DataFrameR\n",
    "I Calculate the mean, median, and mode of the test scores using Pandas toolsR\n",
    "I Display the mean, median, and mode in a table.\n",
    "Assume the CSV file contains the following columnsM\n",
    "I Student ID: The ID of the studentR\n",
    "I Test Score: The score of the student's test.\n",
    "Example usage of the program:\n",
    "Enter the file path of the CSV file containing the student data: student_data.csv\n",
    "+-----------+--------+\n",
    "| Statistic | Value |\n",
    "+-----------+--------+\n",
    "| Mean | 79.6 |\n",
    "| Median | 82 |\n",
    "| Mode | 85, 90 |\n",
    "+-----------+--------+\n",
    "Assume that the CSV file student_data.csv contains the following data:\n",
    "Student ID,Test Score\n",
    "1,85\n",
    "2,90\n",
    "3,80\n",
    "4,75\n",
    "5,85\n",
    "6,82\n",
    "7,78\n",
    "8,85\n",
    "9,90\n",
    "10,85\n",
    "The program should calculate the mean, median, and mode of the test scores and display the results\n",
    "in a table.\"\"\"\n",
    "\n",
    "import csv\n",
    "heading=[\"StudentID\",\"Test Score\"]\n",
    "data=[[1,85],[2,90],[3,80],[4,70],[5,85],[6,82],[7,78],[8,85],[9,90],[10,85]]\n",
    "filename=\"student_records.csv\"\n",
    "with open(filename,'w')as f:\n",
    "    csvwriter=csv.writer(f)\n",
    "    csvwriter.writerow(heading)\n",
    "    csvwriter.writerows(data)\n",
    "    f.close()\n",
    "\n",
    "file_path=input(\"Enter a file path \\n\")\n",
    "df=pd.read_csv(file_path)\n",
    "df1=pd.DataFrame({\"Mean\":[\"\"],\"Mode\":[\"\"],\"Median\":[\"\"]\n",
    "})\n",
    "df1[\"Mean\"]=df[\"Test Score\"].mean()\n",
    "df1[\"Mode\"]=df[\"Test Score\"].mode()\n",
    "df1[\"Median\"]=df[\"Test Score\"].median()\n",
    "df1"
   ]
  },
  {
   "cell_type": "code",
   "execution_count": 22,
   "id": "f28470ac-d737-45c0-9c81-db68963b54a6",
   "metadata": {},
   "outputs": [
    {
     "name": "stdin",
     "output_type": "stream",
     "text": [
      "Enter a file path \n",
      " student_records.csv\n"
     ]
    }
   ],
   "source": []
  },
  {
   "cell_type": "code",
   "execution_count": null,
   "id": "0b235651-b40a-47b3-aa28-4ab620385947",
   "metadata": {},
   "outputs": [],
   "source": []
  }
 ],
 "metadata": {
  "kernelspec": {
   "display_name": "Python 3 (ipykernel)",
   "language": "python",
   "name": "python3"
  },
  "language_info": {
   "codemirror_mode": {
    "name": "ipython",
    "version": 3
   },
   "file_extension": ".py",
   "mimetype": "text/x-python",
   "name": "python",
   "nbconvert_exporter": "python",
   "pygments_lexer": "ipython3",
   "version": "3.10.8"
  }
 },
 "nbformat": 4,
 "nbformat_minor": 5
}
