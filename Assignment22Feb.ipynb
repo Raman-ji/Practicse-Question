{
 "cells": [
  {
   "cell_type": "code",
   "execution_count": 3,
   "id": "289ed32b-1e80-43f8-b6ce-29df637a7c08",
   "metadata": {},
   "outputs": [
    {
     "name": "stdout",
     "output_type": "stream",
     "text": [
      "program\n",
      "0     4\n",
      "1     8\n",
      "2    15\n",
      "3    16\n",
      "4    23\n",
      "5    42\n",
      "dtype: int64\n"
     ]
    }
   ],
   "source": [
    "\"\"\"Q1. Create a Pandas Series that contains the following data: 4, 8, 15, 16, 23, and 42. Then, print the series.\n",
    "Answer:- \"\"\"\n",
    "import pandas as pd\n",
    "print(\"program\")\n",
    "series1=pd.Series([4,8,15,16, 23, 42])\n",
    "print(series)"
   ]
  },
  {
   "cell_type": "code",
   "execution_count": 20,
   "id": "6590e57d-76bd-4b0e-a723-2c7db5b47646",
   "metadata": {},
   "outputs": [
    {
     "name": "stdout",
     "output_type": "stream",
     "text": [
      "program\n",
      "0          2\n",
      "1          4\n",
      "2          5\n",
      "3          2\n",
      "4      Raman\n",
      "5         23\n",
      "6         90\n",
      "7         89\n",
      "8      gupta\n",
      "9    Agrawal\n",
      "dtype: object\n"
     ]
    }
   ],
   "source": [
    "\"\"\" Q2. Create a variable of list type containing 10 elements in it, and apply pandas.Series function on the\n",
    "variable print it.\n",
    "Answer:-\"\"\"\n",
    "print(\"program\")\n",
    "List1=[2,4,5,2,'Raman',23,90,89, 'gupta','Agrawal']\n",
    "series2=pd.Series(List1)\n",
    "print(series2)\n"
   ]
  },
  {
   "cell_type": "code",
   "execution_count": 26,
   "id": "b0ac2530-c178-46f1-a28e-8b8ea625a577",
   "metadata": {},
   "outputs": [
    {
     "name": "stdout",
     "output_type": "stream",
     "text": [
      "program\n"
     ]
    },
    {
     "data": {
      "text/html": [
       "<div>\n",
       "<style scoped>\n",
       "    .dataframe tbody tr th:only-of-type {\n",
       "        vertical-align: middle;\n",
       "    }\n",
       "\n",
       "    .dataframe tbody tr th {\n",
       "        vertical-align: top;\n",
       "    }\n",
       "\n",
       "    .dataframe thead th {\n",
       "        text-align: right;\n",
       "    }\n",
       "</style>\n",
       "<table border=\"1\" class=\"dataframe\">\n",
       "  <thead>\n",
       "    <tr style=\"text-align: right;\">\n",
       "      <th></th>\n",
       "      <th>Name</th>\n",
       "      <th>Age</th>\n",
       "      <th>Gender</th>\n",
       "    </tr>\n",
       "  </thead>\n",
       "  <tbody>\n",
       "    <tr>\n",
       "      <th>0</th>\n",
       "      <td>Alice</td>\n",
       "      <td>25</td>\n",
       "      <td>female</td>\n",
       "    </tr>\n",
       "    <tr>\n",
       "      <th>1</th>\n",
       "      <td>Bob</td>\n",
       "      <td>30</td>\n",
       "      <td>Male</td>\n",
       "    </tr>\n",
       "    <tr>\n",
       "      <th>2</th>\n",
       "      <td>Claire</td>\n",
       "      <td>27</td>\n",
       "      <td>Female</td>\n",
       "    </tr>\n",
       "  </tbody>\n",
       "</table>\n",
       "</div>"
      ],
      "text/plain": [
       "     Name  Age  Gender\n",
       "0   Alice   25  female\n",
       "1     Bob   30    Male\n",
       "2  Claire   27  Female"
      ]
     },
     "execution_count": 26,
     "metadata": {},
     "output_type": "execute_result"
    }
   ],
   "source": [
    "\"\"\"Q3. Create a Pandas DataFrame that contains the following data:\n",
    "Then, print the DataFrame.\n",
    "Answer:- \"\"\"\n",
    "print(\"program\")\n",
    "lst=[['Alice',25,'female'],['Bob',30,'Male'],['Claire',27,'Female']]\n",
    "df=pd.DataFrame(lst, columns=[\"Name\", \"Age\", \"Gender\"], index=None)\n",
    "df\n"
   ]
  },
  {
   "cell_type": "code",
   "execution_count": 25,
   "id": "9efd6328-c727-4753-a6af-76e84e768e86",
   "metadata": {},
   "outputs": [
    {
     "data": {
      "text/plain": [
       "'Q4. What is ‘DataFrame’ in pandas and how is it different from pandas.series? Explain with an example.\\nAnswer:-DataFrame is a 2 dimensional labelled datastructure in python while series is a 1- dimensionale datastructre there is a index column to access the data in series which is also available in dataframe\\n'"
      ]
     },
     "execution_count": 25,
     "metadata": {},
     "output_type": "execute_result"
    }
   ],
   "source": [
    "\"\"\"Q4. What is ‘DataFrame’ in pandas and how is it different from pandas.series? Explain with an example.\n",
    "Answer:-DataFrame is a 2 dimensional labelled datastructure in python while series is a 1- dimensionale datastructre there is a index column to access the data in series which is also available in dataframe\n",
    "\"\"\""
   ]
  },
  {
   "cell_type": "code",
   "execution_count": 33,
   "id": "8be47ede-0c3e-44a1-bf90-309efc738ca7",
   "metadata": {},
   "outputs": [
    {
     "name": "stdout",
     "output_type": "stream",
     "text": [
      "Example\n",
      "\n",
      "    Name  Age  Gender\n",
      "0  Alice   25  female\n",
      "1    Bob   30    Male\n",
      "     Name  Age  Gender\n",
      "1     Bob   30    Male\n",
      "2  Claire   27  Female\n"
     ]
    }
   ],
   "source": [
    "\"\"\"Q5. What are some common functions you can use to manipulate data in a Pandas DataFrame? Can\n",
    "you give an example of when you might use one of these functions?\n",
    "Answer:- Functions are:- \n",
    "head()\n",
    "tail()\n",
    "dtypes()\n",
    "\"\"\"\n",
    "print(\"Example\\n\")\n",
    "Head=df.head(2)\n",
    "Tail= df.tail(2)\n",
    "print(Head)\n",
    "print(Tail)"
   ]
  },
  {
   "cell_type": "code",
   "execution_count": 34,
   "id": "fda3c813-cd3a-4770-b2f8-285f2e01330e",
   "metadata": {},
   "outputs": [
    {
     "data": {
      "text/plain": [
       "'Q6. Which of the following is mutable in nature Series, DataFrame, Panel?\\nAnswer:-All pandas data structures are value-mutable (the values they contain can be altered) but not always size-mutable. The length of a Series cannot be changed, but, for example, columns can be inserted into a DataFrame.\\nand panel is 3-D size mutable array'"
      ]
     },
     "execution_count": 34,
     "metadata": {},
     "output_type": "execute_result"
    }
   ],
   "source": [
    "\"\"\"Q6. Which of the following is mutable in nature Series, DataFrame, Panel?\n",
    "Answer:-All pandas data structures are value-mutable (the values they contain can be altered) but not always size-mutable. The length of a Series cannot be changed, but, for example, columns can be inserted into a DataFrame.\n",
    "and panel is 3-D size mutable array\"\"\""
   ]
  },
  {
   "cell_type": "code",
   "execution_count": 45,
   "id": "601f52b6-74bd-4416-88f6-8a3441bda315",
   "metadata": {},
   "outputs": [
    {
     "name": "stdout",
     "output_type": "stream",
     "text": [
      "Program\n"
     ]
    },
    {
     "data": {
      "text/html": [
       "<div>\n",
       "<style scoped>\n",
       "    .dataframe tbody tr th:only-of-type {\n",
       "        vertical-align: middle;\n",
       "    }\n",
       "\n",
       "    .dataframe tbody tr th {\n",
       "        vertical-align: top;\n",
       "    }\n",
       "\n",
       "    .dataframe thead th {\n",
       "        text-align: right;\n",
       "    }\n",
       "</style>\n",
       "<table border=\"1\" class=\"dataframe\">\n",
       "  <thead>\n",
       "    <tr style=\"text-align: right;\">\n",
       "      <th></th>\n",
       "      <th>Name</th>\n",
       "      <th>Age</th>\n",
       "      <th>Year</th>\n",
       "    </tr>\n",
       "  </thead>\n",
       "  <tbody>\n",
       "    <tr>\n",
       "      <th>0</th>\n",
       "      <td>Raman</td>\n",
       "      <td>19</td>\n",
       "      <td>NaN</td>\n",
       "    </tr>\n",
       "    <tr>\n",
       "      <th>1</th>\n",
       "      <td>Dikhsa</td>\n",
       "      <td>18</td>\n",
       "      <td>NaN</td>\n",
       "    </tr>\n",
       "  </tbody>\n",
       "</table>\n",
       "</div>"
      ],
      "text/plain": [
       "     Name  Age Year\n",
       "0   Raman   19  NaN\n",
       "1  Dikhsa   18  NaN"
      ]
     },
     "execution_count": 45,
     "metadata": {},
     "output_type": "execute_result"
    }
   ],
   "source": [
    "\"\"\"Q7. Create a DataFrame using multiple Series. Explain with an example.\n",
    "Answer:-\"\"\"\n",
    "print(\"Program\")\n",
    "data={\"Name\":pd.Series([\"Raman\",\"Dikhsa\"]),\"Age\":pd.Series([19,18]), \"year\":pd.Series([3,2]) }\n",
    "df=pd.DataFrame(data,  columns=[\"Name\", \"Age\", \"Year\"])\n",
    "df"
   ]
  },
  {
   "cell_type": "code",
   "execution_count": null,
   "id": "010d7749-0cfe-4d1a-92aa-69c77a58eb49",
   "metadata": {},
   "outputs": [],
   "source": []
  }
 ],
 "metadata": {
  "kernelspec": {
   "display_name": "Python 3 (ipykernel)",
   "language": "python",
   "name": "python3"
  },
  "language_info": {
   "codemirror_mode": {
    "name": "ipython",
    "version": 3
   },
   "file_extension": ".py",
   "mimetype": "text/x-python",
   "name": "python",
   "nbconvert_exporter": "python",
   "pygments_lexer": "ipython3",
   "version": "3.10.8"
  }
 },
 "nbformat": 4,
 "nbformat_minor": 5
}
