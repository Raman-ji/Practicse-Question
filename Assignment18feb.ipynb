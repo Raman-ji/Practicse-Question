{
 "cells": [
  {
   "cell_type": "code",
   "execution_count": 1,
   "id": "4045014d-f1e7-4724-92a3-ce867c593e61",
   "metadata": {},
   "outputs": [
    {
     "data": {
      "text/plain": [
       "'Q1. What is an API? Give an example, where an API is used in real life.\\nAnswer:- APIs are used in web applications to connect user-facing front ends with critical back-end functionality and data. APIs are used to deliver material by streaming services such as Spotify and Netflix.'"
      ]
     },
     "execution_count": 1,
     "metadata": {},
     "output_type": "execute_result"
    }
   ],
   "source": [
    "\"\"\"Q1. What is an API? Give an example, where an API is used in real life.\n",
    "Answer:- APIs are used in web applications to connect user-facing front ends with critical back-end functionality and data. APIs are used to deliver material by streaming services such as Spotify and Netflix.\"\"\""
   ]
  },
  {
   "cell_type": "code",
   "execution_count": 2,
   "id": "44a04ff8-b360-4b19-b18c-a8e459a9e327",
   "metadata": {},
   "outputs": [
    {
     "data": {
      "text/plain": [
       "'Q2. Give advantages and disadvantages of using API.\\nAnswer:- API advantages:\\n1.Can provide a way to access functionality or data that is not otherwise readily available or accessible.\\n2.Can provide a way to automate tasks.\\n3.Can help to improve communication between disparate systems.\\n\\nAPI disadvantages:\\n1.Can be difficult to use and understand.\\n2.Cannot be guaranteed to be stable or backwards compatible.\\n3.May require a certain level of technical expertise in order to use them effectively'"
      ]
     },
     "execution_count": 2,
     "metadata": {},
     "output_type": "execute_result"
    }
   ],
   "source": [
    "\"\"\"Q2. Give advantages and disadvantages of using API.\n",
    "Answer:- API advantages:\n",
    "1.Can provide a way to access functionality or data that is not otherwise readily available or accessible.\n",
    "2.Can provide a way to automate tasks.\n",
    "3.Can help to improve communication between disparate systems.\n",
    "\n",
    "API disadvantages:\n",
    "1.Can be difficult to use and understand.\n",
    "2.Cannot be guaranteed to be stable or backwards compatible.\n",
    "3.May require a certain level of technical expertise in order to use them effectively\"\"\""
   ]
  },
  {
   "cell_type": "code",
   "execution_count": 3,
   "id": "c18abf29-8394-4c07-94ff-7ebd3d74bc89",
   "metadata": {},
   "outputs": [
    {
     "data": {
      "text/plain": [
       "\"Q3. What is a Web API? Differentiate between API and Web API.\\nAnswer:- Web API is open source an ideal platform for building REST-ful services over the .NET Framework. Unlike WCF Rest service, it use the full featues of HTTP (like URIs, request/response headers, caching, versioning, various content formats) and you don't need to define any extra config settings for different devices unlike WCF Rest service\\nBoth APIs and web services are technologies that enable the transfer of data between separate software applications. API is an interface that exposes an application's data to outside software, whereas web applications are one type of API with stricter requirements. These requirements include network communication, SOAP as the primary protocol, and less accessibility for the public\\n\""
      ]
     },
     "execution_count": 3,
     "metadata": {},
     "output_type": "execute_result"
    }
   ],
   "source": [
    "\"\"\"Q3. What is a Web API? Differentiate between API and Web API.\n",
    "Answer:- Web API is open source an ideal platform for building REST-ful services over the .NET Framework. Unlike WCF Rest service, it use the full featues of HTTP (like URIs, request/response headers, caching, versioning, various content formats) and you don't need to define any extra config settings for different devices unlike WCF Rest service\n",
    "Both APIs and web services are technologies that enable the transfer of data between separate software applications. API is an interface that exposes an application's data to outside software, whereas web applications are one type of API with stricter requirements. These requirements include network communication, SOAP as the primary protocol, and less accessibility for the public\n",
    "\"\"\""
   ]
  },
  {
   "cell_type": "code",
   "execution_count": 4,
   "id": "c0491d6f-aeeb-48d1-9ee0-05cd9937a1ad",
   "metadata": {},
   "outputs": [
    {
     "data": {
      "text/plain": [
       "'Q4. Explain REST and SOAP Architecture. Mention shortcomings of SOAP.\\nAnswer:- SOAP:-\\nSOAP is a protocol which was designed before REST and came into the picture. The main idea behind designing SOAP was to ensure that programs built on different platforms and programming languages could exchange data in an easy manner. SOAP stands for Simple Object Access Protocol.\\nREST:-\\nREST was designed specifically for working with components such as media components, files, or even objects on a particular hardware device. Any web service that is defined on the principles of REST can be called a RestFul web service. A Restful service would use the normal HTTP verbs of GET, POST, PUT and DELETE for working with the required components. REST stands for Representational State Transfer.\\n\\n'"
      ]
     },
     "execution_count": 4,
     "metadata": {},
     "output_type": "execute_result"
    }
   ],
   "source": [
    "\"\"\"Q4. Explain REST and SOAP Architecture. Mention shortcomings of SOAP.\n",
    "Answer:- SOAP:-\n",
    "SOAP is a protocol which was designed before REST and came into the picture. The main idea behind designing SOAP was to ensure that programs built on different platforms and programming languages could exchange data in an easy manner. SOAP stands for Simple Object Access Protocol.\n",
    "REST:-\n",
    "REST was designed specifically for working with components such as media components, files, or even objects on a particular hardware device. Any web service that is defined on the principles of REST can be called a RestFul web service. A Restful service would use the normal HTTP verbs of GET, POST, PUT and DELETE for working with the required components. REST stands for Representational State Transfer.\n",
    "\n",
    "\"\"\""
   ]
  },
  {
   "cell_type": "code",
   "execution_count": 6,
   "id": "c82ab32e-ed19-4c1e-9dbb-0a9f875f03a9",
   "metadata": {},
   "outputs": [
    {
     "data": {
      "text/plain": [
       "'Q5. Differentiate between REST and SOAP.\\nAnswer:-REST:-\\n1. Relies on REST (Representational State Transfer) architecture using HTTP.\\n2. Generally transports data in JSON. It is based on URI. Because REST follows stateless model, REST does not enforces message format as XML or JSON etc.\\n3.It works with GET, POST, PUT, DELETE\\n4.Works over HTTP and HTTPS\\n5.Less structured -> less bulky data\\n6.Designed with mobile devices in mind\\n\\nSOAP:-\\n1.Relies on SOAP (Simple Object Access Protocol)\\n2.Transports data in standard XML format.\\n3.Because it is XML based and relies on SOAP, it works with WSDL\\n4.Works over HTTP, HTTPS, SMTP, XMPP\\n5.Highly structured/typed\\n6.Designed with large enterprise applications in mind\\n'"
      ]
     },
     "execution_count": 6,
     "metadata": {},
     "output_type": "execute_result"
    }
   ],
   "source": [
    "\"\"\"Q5. Differentiate between REST and SOAP.\n",
    "Answer:-REST:-\n",
    "1. Relies on REST (Representational State Transfer) architecture using HTTP.\n",
    "2. Generally transports data in JSON. It is based on URI. Because REST follows stateless model, REST does not enforces message format as XML or JSON etc.\n",
    "3.It works with GET, POST, PUT, DELETE\n",
    "4.Works over HTTP and HTTPS\n",
    "5.Less structured -> less bulky data\n",
    "6.Designed with mobile devices in mind\n",
    "\n",
    "SOAP:-\n",
    "1.Relies on SOAP (Simple Object Access Protocol)\n",
    "2.Transports data in standard XML format.\n",
    "3.Because it is XML based and relies on SOAP, it works with WSDL\n",
    "4.Works over HTTP, HTTPS, SMTP, XMPP\n",
    "5.Highly structured/typed\n",
    "6.Designed with large enterprise applications in mind\n",
    "\"\"\""
   ]
  },
  {
   "cell_type": "code",
   "execution_count": null,
   "id": "e55ba37d-24bc-45fe-a715-40c6199bbbb7",
   "metadata": {},
   "outputs": [],
   "source": []
  }
 ],
 "metadata": {
  "kernelspec": {
   "display_name": "Python 3 (ipykernel)",
   "language": "python",
   "name": "python3"
  },
  "language_info": {
   "codemirror_mode": {
    "name": "ipython",
    "version": 3
   },
   "file_extension": ".py",
   "mimetype": "text/x-python",
   "name": "python",
   "nbconvert_exporter": "python",
   "pygments_lexer": "ipython3",
   "version": "3.10.8"
  }
 },
 "nbformat": 4,
 "nbformat_minor": 5
}
